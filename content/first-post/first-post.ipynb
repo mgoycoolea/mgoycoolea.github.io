{
 "cells": [
  {
   "cell_type": "markdown",
   "metadata": {},
   "source": [
    "#  Welcome to Rows and Columns!\n",
    "\n",
    "Hello, everyone! Welcome to the first post of my personal blog *Rows and Columns*. In this blog I will ask interesting questions and will attempt to provide compelling answers.\n",
    "\n",
    "## What is data science?\n",
    "Even though the term data science has only recently been coined, the concepts behind the discipline have existed for at least 50 to 100 years. The general consensus I've heard is that data science is a combination of statistics, computer science, and domain expertise in a given subject. Therefore, data science is not restricted to a domain. Rather it is the process of applying computer science and statistics to analyza and draw conclusions from data in a given field.\n",
    "\n",
    "The term data science is controversial. I've met data scientists who both embrace and dislike the title. The name is inclusive: anyone who works and draws insight from data can be considered a data scientist. Yet the concept is not specific or descriptive enough. as many types of people in many different disciplines work and draw conclusion from data. Are we all data scientists then?\n",
    "\n",
    "\n",
    "## What kind of topics can we expect in this blog?\n",
    "\n",
    "One of the main reasons I enjoy working with data is that I can apply analytical concepts to a wide variety of fields. I want to cover topics that are accesible and intersting to the everyday reader. At the same time, I'd like to explain how I arrived to my conclusions. My goals it to inspire people to ask and answer their one questions by seeing how I go though my analytic process. \n",
    "\n",
    "## That's all for now!\n",
    "\n",
    "I hope you enjoy my data adventures. I'm extremely excited to start this project.\n",
    "\n",
    "I want to thank you for beginning this new journey with me."
   ]
  }
 ],
 "metadata": {
  "anaconda-cloud": {},
  "kernelspec": {
   "display_name": "Python [conda env:data]",
   "language": "python",
   "name": "conda-env-data-py"
  },
  "language_info": {
   "codemirror_mode": {
    "name": "ipython",
    "version": 3
   },
   "file_extension": ".py",
   "mimetype": "text/x-python",
   "name": "python",
   "nbconvert_exporter": "python",
   "pygments_lexer": "ipython3",
   "version": "3.5.2"
  }
 },
 "nbformat": 4,
 "nbformat_minor": 1
}
