{
 "cells": [
  {
   "cell_type": "markdown",
   "metadata": {},
   "source": [
    "Becoming profficient in data science ain't easy. The subject is so multidisciplinary that I sometimes find myself lost in the abundance of resources available for each area. This site is a collection of sites, information, courses, blogs, etc. that I've found helpful to improve different aspects of data science. \n",
    "\n",
    "I'm not affiliated with any of these sites, but I think credit must be given where credit is due."
   ]
  },
  {
   "cell_type": "markdown",
   "metadata": {},
   "source": [
    "## Computer Science\n",
    "### Python\n",
    "[Learning Python the Hard Way](http://www.learningpythonthehardway.com): Great textbook resource for beginners. Goes through most of the basics very clearly. Exercises are ok.\n",
    "\n",
    "[Codewars](www.codewars.com): Other than having a great game, this site allows you to practice problem solving with fun challenges. Useful if you are a beginner, and fun if you want to kill some time while doing something productive.\n",
    "\n",
    "[Pandas Documentation](): The official documentation for the pandas library. Dense with information, but would recommend everyone who will be using this package to go through and read it. Having an idea of what tools are available is a great advantage when working on new problems.\n",
    "\n",
    "[Seaborn Documentation]()\n",
    "\n",
    "### Machine Learning\n",
    "[Andrew Ng's Coursera Course on Machine Learning](): Great course, accesible for everyone, yet it goes trough most alogirthms. Most importantly it teaches you how to think about Machine Learning: prioritizing work, debuggin, diagnostics etc. This guy is the ancient master of the subject, can't be thankful enough to him.\n",
    "\n",
    "[Kaggle.com](www.kaggle.com): Great site that hosts Machine Learning competitons. Also hosts many data sets, and has a vibrant community of people interested in data science. \n",
    "\n",
    "[Sci-kit Learn Site](): One of the most used Python packages for Machine Learning. The tutorial is very good, and the do a great job at explaining simple algorithms and diagnostics to beginners. "
   ]
  },
  {
   "cell_type": "markdown",
   "metadata": {},
   "source": [
    "## Statistics\n",
    "\n",
    "### Good ol' Stats \n",
    "[MITx Stochastic Systems Classs](): Great course on statistics and how to apply them. The language of isntruction is Python so it help to get up to speed with the language as well. Probability, Conditional Probability, Stochastic Processes, Random Variables. \n",
    "\n",
    "### Experimentation - A/B Testing\n",
    "A subdomain that requires a focus of its own. Building experiments is a very rigorous procedure, and most should be second nature to the succesful data scientist.\n",
    "\n",
    "[Google's Course on A/B Testing - Udacity](): Great course, very accesible and slowly paced. I enjoyed watching the instructors discuss about the caveats of setting up experiments and tell their stories. Even here, you can see there is sometimes a lot of creativity in defining metrics, and choosing what to experiment on. Overall, great guidelines and techniques.\n",
    "\n"
   ]
  },
  {
   "cell_type": "code",
   "execution_count": null,
   "metadata": {
    "collapsed": true
   },
   "outputs": [],
   "source": []
  },
  {
   "cell_type": "code",
   "execution_count": null,
   "metadata": {
    "collapsed": true
   },
   "outputs": [],
   "source": []
  }
 ],
 "metadata": {
  "anaconda-cloud": {},
  "kernelspec": {
   "display_name": "Python [conda env:data]",
   "language": "python",
   "name": "conda-env-data-py"
  },
  "language_info": {
   "codemirror_mode": {
    "name": "ipython",
    "version": 3
   },
   "file_extension": ".py",
   "mimetype": "text/x-python",
   "name": "python",
   "nbconvert_exporter": "python",
   "pygments_lexer": "ipython3",
   "version": "3.5.2"
  }
 },
 "nbformat": 4,
 "nbformat_minor": 1
}
